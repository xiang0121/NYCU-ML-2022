{
 "cells": [
  {
   "cell_type": "code",
   "execution_count": 2,
   "metadata": {},
   "outputs": [
    {
     "name": "stdout",
     "output_type": "stream",
     "text": [
      "Collecting numpy\n",
      "  Using cached numpy-1.24.4-cp38-cp38-win_amd64.whl (14.9 MB)\n",
      "Installing collected packages: numpy\n",
      "Successfully installed numpy-1.24.4\n",
      "Collecting pandas\n",
      "  Using cached pandas-2.0.3-cp38-cp38-win_amd64.whl (10.8 MB)\n",
      "Collecting tzdata>=2022.1\n",
      "  Using cached tzdata-2023.3-py2.py3-none-any.whl (341 kB)\n",
      "Requirement already satisfied: python-dateutil>=2.8.2 in c:\\users\\x0928\\miniconda3\\lib\\site-packages (from pandas) (2.8.2)\n",
      "Collecting pytz>=2020.1\n",
      "  Using cached pytz-2023.3.post1-py2.py3-none-any.whl (502 kB)\n",
      "Requirement already satisfied: numpy>=1.20.3 in c:\\users\\x0928\\miniconda3\\lib\\site-packages (from pandas) (1.24.4)\n",
      "Requirement already satisfied: six>=1.5 in c:\\users\\x0928\\miniconda3\\lib\\site-packages (from python-dateutil>=2.8.2->pandas) (1.16.0)\n",
      "Installing collected packages: pytz, tzdata, pandas\n",
      "Successfully installed pandas-2.0.3 pytz-2023.3.post1 tzdata-2023.3\n"
     ]
    }
   ],
   "source": [
    "!pip install numpy\n",
    "!pip install pandas"
   ]
  },
  {
   "cell_type": "code",
   "execution_count": 3,
   "metadata": {},
   "outputs": [
    {
     "name": "stdout",
     "output_type": "stream",
     "text": [
      "Collecting matplotlib\n",
      "  Using cached matplotlib-3.7.3-cp38-cp38-win_amd64.whl (7.5 MB)\n",
      "Collecting pillow>=6.2.0\n",
      "  Downloading Pillow-10.1.0-cp38-cp38-win_amd64.whl (2.6 MB)\n",
      "     ---------------------------------------- 0.0/2.6 MB ? eta -:--:--\n",
      "     - -------------------------------------- 0.1/2.6 MB 2.2 MB/s eta 0:00:02\n",
      "     ---- ----------------------------------- 0.3/2.6 MB 3.2 MB/s eta 0:00:01\n",
      "     -------------- ------------------------- 1.0/2.6 MB 6.8 MB/s eta 0:00:01\n",
      "     -------------------------------------- - 2.5/2.6 MB 13.5 MB/s eta 0:00:01\n",
      "     ---------------------------------------- 2.6/2.6 MB 12.8 MB/s eta 0:00:00\n",
      "Collecting cycler>=0.10\n",
      "  Using cached cycler-0.12.1-py3-none-any.whl (8.3 kB)\n",
      "Requirement already satisfied: packaging>=20.0 in c:\\users\\x0928\\miniconda3\\lib\\site-packages (from matplotlib) (23.0)\n",
      "Collecting fonttools>=4.22.0\n",
      "  Using cached fonttools-4.43.1-cp38-cp38-win_amd64.whl (1.5 MB)\n",
      "Collecting kiwisolver>=1.0.1\n",
      "  Using cached kiwisolver-1.4.5-cp38-cp38-win_amd64.whl (56 kB)\n",
      "Collecting importlib-resources>=3.2.0\n",
      "  Using cached importlib_resources-6.1.0-py3-none-any.whl (33 kB)\n",
      "Collecting contourpy>=1.0.1\n",
      "  Using cached contourpy-1.1.1-cp38-cp38-win_amd64.whl (477 kB)\n",
      "Requirement already satisfied: numpy<2,>=1.20 in c:\\users\\x0928\\miniconda3\\lib\\site-packages (from matplotlib) (1.24.4)\n",
      "Collecting pyparsing>=2.3.1\n",
      "  Using cached pyparsing-3.1.1-py3-none-any.whl (103 kB)\n",
      "Requirement already satisfied: python-dateutil>=2.7 in c:\\users\\x0928\\miniconda3\\lib\\site-packages (from matplotlib) (2.8.2)\n",
      "Requirement already satisfied: zipp>=3.1.0 in c:\\users\\x0928\\miniconda3\\lib\\site-packages (from importlib-resources>=3.2.0->matplotlib) (3.17.0)\n",
      "Requirement already satisfied: six>=1.5 in c:\\users\\x0928\\miniconda3\\lib\\site-packages (from python-dateutil>=2.7->matplotlib) (1.16.0)\n",
      "Installing collected packages: pyparsing, pillow, kiwisolver, importlib-resources, fonttools, cycler, contourpy, matplotlib\n",
      "Successfully installed contourpy-1.1.1 cycler-0.12.1 fonttools-4.43.1 importlib-resources-6.1.0 kiwisolver-1.4.5 matplotlib-3.7.3 pillow-10.1.0 pyparsing-3.1.1\n"
     ]
    }
   ],
   "source": [
    "!pip install matplotlib"
   ]
  },
  {
   "cell_type": "code",
   "execution_count": 15,
   "metadata": {},
   "outputs": [
    {
     "name": "stdout",
     "output_type": "stream",
     "text": [
      "(10000, 5)\n",
      "(10000, 1)\n"
     ]
    },
    {
     "data": {
      "text/html": [
       "<div>\n",
       "<style scoped>\n",
       "    .dataframe tbody tr th:only-of-type {\n",
       "        vertical-align: middle;\n",
       "    }\n",
       "\n",
       "    .dataframe tbody tr th {\n",
       "        vertical-align: top;\n",
       "    }\n",
       "\n",
       "    .dataframe thead th {\n",
       "        text-align: right;\n",
       "    }\n",
       "</style>\n",
       "<table border=\"1\" class=\"dataframe\">\n",
       "  <thead>\n",
       "    <tr style=\"text-align: right;\">\n",
       "      <th></th>\n",
       "      <th>Hours Studied</th>\n",
       "      <th>Previous Scores</th>\n",
       "      <th>Extracurricular Activities</th>\n",
       "      <th>Sleep Hours</th>\n",
       "      <th>Sample Question Papers Practiced</th>\n",
       "    </tr>\n",
       "  </thead>\n",
       "  <tbody>\n",
       "    <tr>\n",
       "      <th>0</th>\n",
       "      <td>7</td>\n",
       "      <td>99</td>\n",
       "      <td>1</td>\n",
       "      <td>9</td>\n",
       "      <td>1</td>\n",
       "    </tr>\n",
       "    <tr>\n",
       "      <th>1</th>\n",
       "      <td>4</td>\n",
       "      <td>82</td>\n",
       "      <td>0</td>\n",
       "      <td>4</td>\n",
       "      <td>2</td>\n",
       "    </tr>\n",
       "    <tr>\n",
       "      <th>2</th>\n",
       "      <td>8</td>\n",
       "      <td>51</td>\n",
       "      <td>1</td>\n",
       "      <td>7</td>\n",
       "      <td>2</td>\n",
       "    </tr>\n",
       "    <tr>\n",
       "      <th>3</th>\n",
       "      <td>5</td>\n",
       "      <td>52</td>\n",
       "      <td>1</td>\n",
       "      <td>5</td>\n",
       "      <td>2</td>\n",
       "    </tr>\n",
       "    <tr>\n",
       "      <th>4</th>\n",
       "      <td>7</td>\n",
       "      <td>75</td>\n",
       "      <td>0</td>\n",
       "      <td>8</td>\n",
       "      <td>5</td>\n",
       "    </tr>\n",
       "    <tr>\n",
       "      <th>...</th>\n",
       "      <td>...</td>\n",
       "      <td>...</td>\n",
       "      <td>...</td>\n",
       "      <td>...</td>\n",
       "      <td>...</td>\n",
       "    </tr>\n",
       "    <tr>\n",
       "      <th>9995</th>\n",
       "      <td>1</td>\n",
       "      <td>49</td>\n",
       "      <td>1</td>\n",
       "      <td>4</td>\n",
       "      <td>2</td>\n",
       "    </tr>\n",
       "    <tr>\n",
       "      <th>9996</th>\n",
       "      <td>7</td>\n",
       "      <td>64</td>\n",
       "      <td>1</td>\n",
       "      <td>8</td>\n",
       "      <td>5</td>\n",
       "    </tr>\n",
       "    <tr>\n",
       "      <th>9997</th>\n",
       "      <td>6</td>\n",
       "      <td>83</td>\n",
       "      <td>1</td>\n",
       "      <td>8</td>\n",
       "      <td>5</td>\n",
       "    </tr>\n",
       "    <tr>\n",
       "      <th>9998</th>\n",
       "      <td>9</td>\n",
       "      <td>97</td>\n",
       "      <td>1</td>\n",
       "      <td>7</td>\n",
       "      <td>0</td>\n",
       "    </tr>\n",
       "    <tr>\n",
       "      <th>9999</th>\n",
       "      <td>7</td>\n",
       "      <td>74</td>\n",
       "      <td>0</td>\n",
       "      <td>8</td>\n",
       "      <td>1</td>\n",
       "    </tr>\n",
       "  </tbody>\n",
       "</table>\n",
       "<p>10000 rows × 5 columns</p>\n",
       "</div>"
      ],
      "text/plain": [
       "      Hours Studied  Previous Scores  Extracurricular Activities  Sleep Hours  \\\n",
       "0                 7               99                           1            9   \n",
       "1                 4               82                           0            4   \n",
       "2                 8               51                           1            7   \n",
       "3                 5               52                           1            5   \n",
       "4                 7               75                           0            8   \n",
       "...             ...              ...                         ...          ...   \n",
       "9995              1               49                           1            4   \n",
       "9996              7               64                           1            8   \n",
       "9997              6               83                           1            8   \n",
       "9998              9               97                           1            7   \n",
       "9999              7               74                           0            8   \n",
       "\n",
       "      Sample Question Papers Practiced  \n",
       "0                                    1  \n",
       "1                                    2  \n",
       "2                                    2  \n",
       "3                                    2  \n",
       "4                                    5  \n",
       "...                                ...  \n",
       "9995                                 2  \n",
       "9996                                 5  \n",
       "9997                                 5  \n",
       "9998                                 0  \n",
       "9999                                 1  \n",
       "\n",
       "[10000 rows x 5 columns]"
      ]
     },
     "execution_count": 15,
     "metadata": {},
     "output_type": "execute_result"
    }
   ],
   "source": [
    "import numpy as np\n",
    "import pandas as pd\n",
    "\n",
    "import matplotlib.pyplot as plt\n",
    "\n",
    "\n",
    "data_x_df = pd.read_csv('dataset_X.csv')\n",
    "data_t_df = pd.read_csv('dataset_T.csv')\n",
    "\n",
    "print((data_x_df.shape))\n",
    "print(data_t_df.shape)\n",
    "\n",
    "\n",
    "data_x_df\n",
    "# convert Yes No to 1 0\n",
    "data_x_df = data_x_df.replace('Yes', 1)\n",
    "data_x_df = data_x_df.replace('No', 0)\n",
    "data_x_df"
   ]
  },
  {
   "cell_type": "code",
   "execution_count": 16,
   "metadata": {},
   "outputs": [
    {
     "name": "stdout",
     "output_type": "stream",
     "text": [
      "(8000, 5)\n",
      "(2000, 5)\n"
     ]
    },
    {
     "data": {
      "text/html": [
       "<div>\n",
       "<style scoped>\n",
       "    .dataframe tbody tr th:only-of-type {\n",
       "        vertical-align: middle;\n",
       "    }\n",
       "\n",
       "    .dataframe tbody tr th {\n",
       "        vertical-align: top;\n",
       "    }\n",
       "\n",
       "    .dataframe thead th {\n",
       "        text-align: right;\n",
       "    }\n",
       "</style>\n",
       "<table border=\"1\" class=\"dataframe\">\n",
       "  <thead>\n",
       "    <tr style=\"text-align: right;\">\n",
       "      <th></th>\n",
       "      <th>Hours Studied</th>\n",
       "      <th>Previous Scores</th>\n",
       "      <th>Extracurricular Activities</th>\n",
       "      <th>Sleep Hours</th>\n",
       "      <th>Sample Question Papers Practiced</th>\n",
       "    </tr>\n",
       "  </thead>\n",
       "  <tbody>\n",
       "    <tr>\n",
       "      <th>0</th>\n",
       "      <td>0.775149</td>\n",
       "      <td>1.704090</td>\n",
       "      <td>1.010404</td>\n",
       "      <td>1.456132</td>\n",
       "      <td>-1.249691</td>\n",
       "    </tr>\n",
       "    <tr>\n",
       "      <th>1</th>\n",
       "      <td>-0.383461</td>\n",
       "      <td>0.723876</td>\n",
       "      <td>-0.989604</td>\n",
       "      <td>-1.492220</td>\n",
       "      <td>-0.900937</td>\n",
       "    </tr>\n",
       "    <tr>\n",
       "      <th>2</th>\n",
       "      <td>1.161352</td>\n",
       "      <td>-1.063573</td>\n",
       "      <td>1.010404</td>\n",
       "      <td>0.276791</td>\n",
       "      <td>-0.900937</td>\n",
       "    </tr>\n",
       "    <tr>\n",
       "      <th>3</th>\n",
       "      <td>0.002742</td>\n",
       "      <td>-1.005913</td>\n",
       "      <td>1.010404</td>\n",
       "      <td>-0.902549</td>\n",
       "      <td>-0.900937</td>\n",
       "    </tr>\n",
       "    <tr>\n",
       "      <th>4</th>\n",
       "      <td>0.775149</td>\n",
       "      <td>0.320259</td>\n",
       "      <td>-0.989604</td>\n",
       "      <td>0.866462</td>\n",
       "      <td>0.145326</td>\n",
       "    </tr>\n",
       "    <tr>\n",
       "      <th>...</th>\n",
       "      <td>...</td>\n",
       "      <td>...</td>\n",
       "      <td>...</td>\n",
       "      <td>...</td>\n",
       "      <td>...</td>\n",
       "    </tr>\n",
       "    <tr>\n",
       "      <th>9995</th>\n",
       "      <td>-1.542072</td>\n",
       "      <td>-1.178892</td>\n",
       "      <td>1.010404</td>\n",
       "      <td>-1.492220</td>\n",
       "      <td>-0.900937</td>\n",
       "    </tr>\n",
       "    <tr>\n",
       "      <th>9996</th>\n",
       "      <td>0.775149</td>\n",
       "      <td>-0.313997</td>\n",
       "      <td>1.010404</td>\n",
       "      <td>0.866462</td>\n",
       "      <td>0.145326</td>\n",
       "    </tr>\n",
       "    <tr>\n",
       "      <th>9997</th>\n",
       "      <td>0.388945</td>\n",
       "      <td>0.781536</td>\n",
       "      <td>1.010404</td>\n",
       "      <td>0.866462</td>\n",
       "      <td>0.145326</td>\n",
       "    </tr>\n",
       "    <tr>\n",
       "      <th>9998</th>\n",
       "      <td>1.547556</td>\n",
       "      <td>1.588771</td>\n",
       "      <td>1.010404</td>\n",
       "      <td>0.276791</td>\n",
       "      <td>-1.598446</td>\n",
       "    </tr>\n",
       "    <tr>\n",
       "      <th>9999</th>\n",
       "      <td>0.775149</td>\n",
       "      <td>0.262599</td>\n",
       "      <td>-0.989604</td>\n",
       "      <td>0.866462</td>\n",
       "      <td>-1.249691</td>\n",
       "    </tr>\n",
       "  </tbody>\n",
       "</table>\n",
       "<p>10000 rows × 5 columns</p>\n",
       "</div>"
      ],
      "text/plain": [
       "      Hours Studied  Previous Scores  Extracurricular Activities  Sleep Hours  \\\n",
       "0          0.775149         1.704090                    1.010404     1.456132   \n",
       "1         -0.383461         0.723876                   -0.989604    -1.492220   \n",
       "2          1.161352        -1.063573                    1.010404     0.276791   \n",
       "3          0.002742        -1.005913                    1.010404    -0.902549   \n",
       "4          0.775149         0.320259                   -0.989604     0.866462   \n",
       "...             ...              ...                         ...          ...   \n",
       "9995      -1.542072        -1.178892                    1.010404    -1.492220   \n",
       "9996       0.775149        -0.313997                    1.010404     0.866462   \n",
       "9997       0.388945         0.781536                    1.010404     0.866462   \n",
       "9998       1.547556         1.588771                    1.010404     0.276791   \n",
       "9999       0.775149         0.262599                   -0.989604     0.866462   \n",
       "\n",
       "      Sample Question Papers Practiced  \n",
       "0                            -1.249691  \n",
       "1                            -0.900937  \n",
       "2                            -0.900937  \n",
       "3                            -0.900937  \n",
       "4                             0.145326  \n",
       "...                                ...  \n",
       "9995                         -0.900937  \n",
       "9996                          0.145326  \n",
       "9997                          0.145326  \n",
       "9998                         -1.598446  \n",
       "9999                         -1.249691  \n",
       "\n",
       "[10000 rows x 5 columns]"
      ]
     },
     "execution_count": 16,
     "metadata": {},
     "output_type": "execute_result"
    }
   ],
   "source": [
    "# Data preprocessing\n",
    "data_x_df = ((data_x_df - data_x_df.mean()) / data_x_df.std())  # Normalize\n",
    "# data_x_df = data_x_df.reindex(np.random.permutation(data_x_df.index)) # Random Permutaion\n",
    "\n",
    "Split_ratio = 0.8\n",
    "train_len = 8000 # int(data_x_df.to_numpy().shape[0]* Split_ratio)\n",
    "D = 5\n",
    "\n",
    "X_train = data_x_df.iloc[:train_len,:]\n",
    "X_val = data_x_df.iloc[train_len: , :]\n",
    "y_train = data_t_df.iloc[:train_len, :]\n",
    "y_val = data_t_df.iloc[train_len:, :]\n",
    "\n",
    "# if yes then add 1\n",
    "\n",
    "print(X_train.to_numpy().shape)\n",
    "print(X_val.to_numpy().shape)\n",
    "data_x_df"
   ]
  },
  {
   "cell_type": "code",
   "execution_count": 17,
   "metadata": {},
   "outputs": [
    {
     "data": {
      "text/html": [
       "<div>\n",
       "<style scoped>\n",
       "    .dataframe tbody tr th:only-of-type {\n",
       "        vertical-align: middle;\n",
       "    }\n",
       "\n",
       "    .dataframe tbody tr th {\n",
       "        vertical-align: top;\n",
       "    }\n",
       "\n",
       "    .dataframe thead th {\n",
       "        text-align: right;\n",
       "    }\n",
       "</style>\n",
       "<table border=\"1\" class=\"dataframe\">\n",
       "  <thead>\n",
       "    <tr style=\"text-align: right;\">\n",
       "      <th></th>\n",
       "      <th>Performance Index</th>\n",
       "    </tr>\n",
       "  </thead>\n",
       "  <tbody>\n",
       "    <tr>\n",
       "      <th>0</th>\n",
       "      <td>91.0</td>\n",
       "    </tr>\n",
       "    <tr>\n",
       "      <th>1</th>\n",
       "      <td>65.0</td>\n",
       "    </tr>\n",
       "    <tr>\n",
       "      <th>2</th>\n",
       "      <td>45.0</td>\n",
       "    </tr>\n",
       "    <tr>\n",
       "      <th>3</th>\n",
       "      <td>36.0</td>\n",
       "    </tr>\n",
       "    <tr>\n",
       "      <th>4</th>\n",
       "      <td>66.0</td>\n",
       "    </tr>\n",
       "    <tr>\n",
       "      <th>...</th>\n",
       "      <td>...</td>\n",
       "    </tr>\n",
       "    <tr>\n",
       "      <th>9995</th>\n",
       "      <td>23.0</td>\n",
       "    </tr>\n",
       "    <tr>\n",
       "      <th>9996</th>\n",
       "      <td>58.0</td>\n",
       "    </tr>\n",
       "    <tr>\n",
       "      <th>9997</th>\n",
       "      <td>74.0</td>\n",
       "    </tr>\n",
       "    <tr>\n",
       "      <th>9998</th>\n",
       "      <td>95.0</td>\n",
       "    </tr>\n",
       "    <tr>\n",
       "      <th>9999</th>\n",
       "      <td>64.0</td>\n",
       "    </tr>\n",
       "  </tbody>\n",
       "</table>\n",
       "<p>10000 rows × 1 columns</p>\n",
       "</div>"
      ],
      "text/plain": [
       "      Performance Index\n",
       "0                  91.0\n",
       "1                  65.0\n",
       "2                  45.0\n",
       "3                  36.0\n",
       "4                  66.0\n",
       "...                 ...\n",
       "9995               23.0\n",
       "9996               58.0\n",
       "9997               74.0\n",
       "9998               95.0\n",
       "9999               64.0\n",
       "\n",
       "[10000 rows x 1 columns]"
      ]
     },
     "execution_count": 17,
     "metadata": {},
     "output_type": "execute_result"
    }
   ],
   "source": [
    "data_t_df"
   ]
  },
  {
   "cell_type": "markdown",
   "metadata": {},
   "source": [
    "## 2.1(a)"
   ]
  },
  {
   "cell_type": "code",
   "execution_count": 18,
   "metadata": {},
   "outputs": [],
   "source": [
    "#Generate the Phi matrix for M=1\n",
    "Phi_matrix_train_M1 = np.concatenate([np.ones([1, len(X_train)]).T, X_train.to_numpy()], axis=1)\n",
    "Phi_matrix_val_M1 = np.concatenate([np.ones([1, len(X_val)]).T, X_val.to_numpy()], axis=1)"
   ]
  },
  {
   "cell_type": "code",
   "execution_count": 19,
   "metadata": {},
   "outputs": [],
   "source": [
    "M1_Weight = (np.linalg.inv(Phi_matrix_train_M1.T @ Phi_matrix_train_M1) @ Phi_matrix_train_M1.T) @ data_t_df.iloc[:train_len,:]"
   ]
  },
  {
   "cell_type": "markdown",
   "metadata": {},
   "source": [
    "$$\\boldsymbol{w}=\\left(\\boldsymbol{\\Phi}^T \\boldsymbol{\\Phi}\\right)^{-1} \\boldsymbol{\\Phi}^T \\mathbf{t}$$"
   ]
  },
  {
   "cell_type": "code",
   "execution_count": 20,
   "metadata": {},
   "outputs": [],
   "source": [
    "def RMSE(predictions, targets):\n",
    "    return np.sqrt(np.square((predictions - targets)).mean())"
   ]
  },
  {
   "cell_type": "code",
   "execution_count": 21,
   "metadata": {},
   "outputs": [],
   "source": [
    "M1_train_pred = np.dot(M1_Weight.T, Phi_matrix_train_M1.T)\n",
    "M1_val_pred = np.dot(M1_Weight.T, Phi_matrix_val_M1.T)\n",
    "M1_RMSE_train_Orig = RMSE(M1_train_pred, y_train.to_numpy().T)\n",
    "M1_RMSE_val_Orig = RMSE(M1_val_pred, y_val.to_numpy().T)"
   ]
  },
  {
   "cell_type": "code",
   "execution_count": 22,
   "metadata": {},
   "outputs": [],
   "source": [
    "# Generate the Phi matrix for M=2\n",
    "\n",
    "def M2_Phi_Matrix(dataset:np.array, D:int):\n",
    "    tmp_matrix = np.zeros((len(dataset), D*D))\n",
    "    for row in range(len(dataset)):\n",
    "        count=0\n",
    "        for i in range(dataset.shape[1]):\n",
    "            for j in range(dataset.shape[1]):\n",
    "                tmp_matrix[row,count] = dataset[row,i] * dataset[row,j]\n",
    "                count = count + 1\n",
    "    return tmp_matrix\n",
    "    \n",
    "tmp_matrix_train = M2_Phi_Matrix(X_train.to_numpy(), D)\n",
    "tmp_matrix_val = M2_Phi_Matrix(X_val.to_numpy(), D)\n",
    "Phi_matrix_train_M2 = np.concatenate([Phi_matrix_train_M1, tmp_matrix_train], axis=1)\n",
    "Phi_matrix_val_M2 = np.concatenate([Phi_matrix_val_M1, tmp_matrix_val], axis=1)"
   ]
  },
  {
   "cell_type": "code",
   "execution_count": 23,
   "metadata": {},
   "outputs": [],
   "source": [
    "M2_Weight = (np.linalg.pinv(Phi_matrix_train_M2.T @ Phi_matrix_train_M2) @ Phi_matrix_train_M2.T) @ y_train\n",
    "M2_train_pred = np.dot(M2_Weight.T, Phi_matrix_train_M2.T)\n",
    "M2_val_pred = np.dot(M2_Weight.T, Phi_matrix_val_M2.T)\n",
    "\n",
    "M2_RMSE_train = RMSE(M2_train_pred, y_train.to_numpy().T)\n",
    "M2_RMSE_val = RMSE(M2_val_pred, y_val.to_numpy().T)"
   ]
  },
  {
   "cell_type": "code",
   "execution_count": 24,
   "metadata": {},
   "outputs": [
    {
     "name": "stdout",
     "output_type": "stream",
     "text": [
      "M1_RMSE_train:  2.031761450807104\n",
      "M1_RMSE_val:  2.060869473062509\n",
      "M2_RMSE_train:  2.029517900990365\n",
      "M2_RMSE_val:  2.0648657388736464\n"
     ]
    }
   ],
   "source": [
    "print('M1_RMSE_train: ', M1_RMSE_train_Orig)\n",
    "print('M1_RMSE_val: ', M1_RMSE_val_Orig)\n",
    "print('M2_RMSE_train: ', M2_RMSE_train)\n",
    "print('M2_RMSE_val: ', M2_RMSE_val)"
   ]
  },
  {
   "cell_type": "code",
   "execution_count": 25,
   "metadata": {},
   "outputs": [
    {
     "data": {
      "image/png": "[encoded data removed]",
      "text/plain": [
       "<Figure size 640x480 with 1 Axes>"
      ]
     },
     "metadata": {},
     "output_type": "display_data"
    }
   ],
   "source": [
    "plt.xlabel('M', fontsize = 15)\n",
    "plt.ylabel('RMS', fontsize = 15)\n",
    "plt.plot([1,2],[M1_RMSE_train_Orig, M2_RMSE_train],marker = \"D\",label='Training')\n",
    "plt.plot([1,2],[M1_RMSE_val_Orig, M2_RMSE_val],marker = \"D\",label='Validation')\n",
    "plt.legend(loc=0, fontsize = 12)\n",
    "plt.grid(True)\n",
    "plt.show()"
   ]
  },
  {
   "cell_type": "markdown",
   "metadata": {},
   "source": [
    "## 2.1(b)"
   ]
  },
  {
   "cell_type": "code",
   "execution_count": 26,
   "metadata": {},
   "outputs": [
    {
     "name": "stdout",
     "output_type": "stream",
     "text": [
      "The most contributive feature is: 'Previous Scores' \n"
     ]
    }
   ],
   "source": [
    "M1_Weight_MAX = np.argmax(np.abs(M1_Weight[1:]))\n",
    "print(f'The most contributive feature is: \\'{data_x_df.columns[M1_Weight_MAX]}\\' ')"
   ]
  },
  {
   "cell_type": "markdown",
   "metadata": {},
   "source": [
    "* Because of the `M1_Weight` is the coefficient of linear model, so **the largest weight(absolute value) is the most contributive feature**.\n",
    "* And following analysis is *\"Removing one of the features and compare with original data\"*."
   ]
  },
  {
   "cell_type": "code",
   "execution_count": 27,
   "metadata": {},
   "outputs": [],
   "source": [
    "feature_list = data_x_df.columns.tolist() # ['fixed acidity', ... , 'alcohol']\n",
    "train_data_list = []\n",
    "M1_RMSE_train_list =[]\n",
    "M1_RMSE_val_list = []\n",
    "err_list = []\n",
    "for i in range(len(feature_list)):\n",
    "    globals()['data_wo_ft'+str(i)] = np.delete(data_x_df.values, i, 1)\n",
    "    train_data_list.append(globals()['data_wo_ft'+str(i)])\n",
    "    # print(globals()['data_wo_ft'+str(i)])"
   ]
  },
  {
   "cell_type": "code",
   "execution_count": 28,
   "metadata": {},
   "outputs": [],
   "source": [
    "#Gernerate Phi matrix \n",
    "for feature in range(D):\n",
    "    tmp_matrix_train = M2_Phi_Matrix(train_data_list[feature][:train_len,:], D)\n",
    "    tmp_matrix_val = M2_Phi_Matrix(train_data_list[feature][train_len:,:], D)\n",
    "    Phi_matrix_train = np.concatenate([np.ones([1, len(X_train)]).T, train_data_list[feature][:train_len,:]], axis=1)\n",
    "    Phi_matrix_val = np.concatenate([np.ones([1, len(X_val)]).T, train_data_list[feature][train_len:, :]], axis=1)\n",
    "    #Weight of M=1\n",
    "    M1_Weight = (np.linalg.pinv(Phi_matrix_train.T @ Phi_matrix_train) @ Phi_matrix_train.T) @ data_t_df.iloc[:train_len,:]\n",
    "    M1_train_pred = np.dot(M1_Weight.T, Phi_matrix_train.T)\n",
    "    M1_val_pred = np.dot(M1_Weight.T, Phi_matrix_val.T)\n",
    "    #Calculate RMSE\n",
    "    M1_RMSE_train = RMSE(M1_train_pred, y_train.to_numpy().T)\n",
    "    M1_RMSE_val = RMSE(M1_val_pred, y_val.to_numpy().T)\n",
    "    M1_RMSE_train_list.append(M1_RMSE_train)\n",
    "    M1_RMSE_val_list.append(M1_RMSE_val)\n",
    "    err_list.append(np.abs(M1_RMSE_train - M1_RMSE_train_Orig))\n",
    "    #print(f\"Without: {feature_list[feature]}\")\n",
    "    #print(\"M1_RMSE_train: \", M1_RMSE_train_list[feature])\n",
    "    #print(\"M1_RMSE_val:  \", M1_RMSE_val_list[feature], \"\\n\")"
   ]
  },
  {
   "cell_type": "code",
   "execution_count": 29,
   "metadata": {},
   "outputs": [
    {
     "data": {
      "image/png": "[encoded data removed]",
      "text/plain": [
       "<Figure size 800x400 with 1 Axes>"
      ]
     },
     "metadata": {},
     "output_type": "display_data"
    }
   ],
   "source": [
    "plt.figure(figsize=(8,4))\n",
    "plt.xticks(fontsize = 12)\n",
    "plt.xticks(rotation = 70)\n",
    "plt.yticks(fontsize = 12)\n",
    "plt.bar(feature_list, M1_RMSE_train_list, label = 'Training', align = \"edge\", width = 0.35)\n",
    "plt.bar(feature_list, M1_RMSE_val_list, label = 'Validation', align = \"edge\", width = -0.35)\n",
    "plt.title(\"Analysis of features\", fontsize = 20)\n",
    "plt.xlabel(\"Features without\", fontsize = 15)\n",
    "plt.ylabel(\"RMS\", fontsize = 12)\n",
    "plt.ylim(0,1)\n",
    "plt.legend(loc=0, fontsize = 9)\n",
    "plt.grid(True)\n",
    "plt.show()"
   ]
  },
  {
   "cell_type": "markdown",
   "metadata": {},
   "source": [
    "* We can find that RMSE of removing `alcohol`  compare with the original RMSE is the largest value."
   ]
  },
  {
   "cell_type": "code",
   "execution_count": 30,
   "metadata": {},
   "outputs": [
    {
     "data": {
      "image/png": "[encoded data removed]",
      "text/plain": [
       "<Figure size 800x400 with 1 Axes>"
      ]
     },
     "metadata": {},
     "output_type": "display_data"
    }
   ],
   "source": [
    "plt.figure(figsize=(8,4))\n",
    "plt.xticks(fontsize = 12)\n",
    "plt.xticks(rotation = 70)\n",
    "plt.yticks(fontsize = 12)\n",
    "plt.bar(feature_list, err_list, label = 'Error', align = \"edge\", width = 0.5)\n",
    "plt.title(\"Analysis of features\", fontsize = 20)\n",
    "plt.xlabel(\"Features without\", fontsize = 15)\n",
    "plt.ylabel(\"RMS\", fontsize = 12)\n",
    "plt.ylim(0,0.03)\n",
    "plt.legend(loc=0, fontsize = 15)\n",
    "plt.show()"
   ]
  },
  {
   "cell_type": "markdown",
   "metadata": {},
   "source": [
    "The correlation coefficient of features and target "
   ]
  },
  {
   "cell_type": "code",
   "execution_count": 31,
   "metadata": {},
   "outputs": [
    {
     "data": {
      "text/html": [
       "<div>\n",
       "<style scoped>\n",
       "    .dataframe tbody tr th:only-of-type {\n",
       "        vertical-align: middle;\n",
       "    }\n",
       "\n",
       "    .dataframe tbody tr th {\n",
       "        vertical-align: top;\n",
       "    }\n",
       "\n",
       "    .dataframe thead th {\n",
       "        text-align: right;\n",
       "    }\n",
       "</style>\n",
       "<table border=\"1\" class=\"dataframe\">\n",
       "  <thead>\n",
       "    <tr style=\"text-align: right;\">\n",
       "      <th></th>\n",
       "      <th>Hours Studied</th>\n",
       "      <th>Previous Scores</th>\n",
       "      <th>Extracurricular Activities</th>\n",
       "      <th>Sleep Hours</th>\n",
       "      <th>Sample Question Papers Practiced</th>\n",
       "      <th>taget correlation</th>\n",
       "    </tr>\n",
       "  </thead>\n",
       "  <tbody>\n",
       "    <tr>\n",
       "      <th>Hours Studied</th>\n",
       "      <td>1.000000</td>\n",
       "      <td>-0.012390</td>\n",
       "      <td>0.003873</td>\n",
       "      <td>0.001245</td>\n",
       "      <td>0.017463</td>\n",
       "      <td>0.373730</td>\n",
       "    </tr>\n",
       "    <tr>\n",
       "      <th>Previous Scores</th>\n",
       "      <td>-0.012390</td>\n",
       "      <td>1.000000</td>\n",
       "      <td>0.008369</td>\n",
       "      <td>0.005944</td>\n",
       "      <td>0.007888</td>\n",
       "      <td>0.915189</td>\n",
       "    </tr>\n",
       "    <tr>\n",
       "      <th>Extracurricular Activities</th>\n",
       "      <td>0.003873</td>\n",
       "      <td>0.008369</td>\n",
       "      <td>1.000000</td>\n",
       "      <td>-0.023284</td>\n",
       "      <td>0.013103</td>\n",
       "      <td>0.024525</td>\n",
       "    </tr>\n",
       "    <tr>\n",
       "      <th>Sleep Hours</th>\n",
       "      <td>0.001245</td>\n",
       "      <td>0.005944</td>\n",
       "      <td>-0.023284</td>\n",
       "      <td>1.000000</td>\n",
       "      <td>0.003990</td>\n",
       "      <td>0.048106</td>\n",
       "    </tr>\n",
       "    <tr>\n",
       "      <th>Sample Question Papers Practiced</th>\n",
       "      <td>0.017463</td>\n",
       "      <td>0.007888</td>\n",
       "      <td>0.013103</td>\n",
       "      <td>0.003990</td>\n",
       "      <td>1.000000</td>\n",
       "      <td>0.043268</td>\n",
       "    </tr>\n",
       "    <tr>\n",
       "      <th>taget correlation</th>\n",
       "      <td>0.373730</td>\n",
       "      <td>0.915189</td>\n",
       "      <td>0.024525</td>\n",
       "      <td>0.048106</td>\n",
       "      <td>0.043268</td>\n",
       "      <td>1.000000</td>\n",
       "    </tr>\n",
       "  </tbody>\n",
       "</table>\n",
       "</div>"
      ],
      "text/plain": [
       "                                  Hours Studied  Previous Scores  \\\n",
       "Hours Studied                          1.000000        -0.012390   \n",
       "Previous Scores                       -0.012390         1.000000   \n",
       "Extracurricular Activities             0.003873         0.008369   \n",
       "Sleep Hours                            0.001245         0.005944   \n",
       "Sample Question Papers Practiced       0.017463         0.007888   \n",
       "taget correlation                      0.373730         0.915189   \n",
       "\n",
       "                                  Extracurricular Activities  Sleep Hours  \\\n",
       "Hours Studied                                       0.003873     0.001245   \n",
       "Previous Scores                                     0.008369     0.005944   \n",
       "Extracurricular Activities                          1.000000    -0.023284   \n",
       "Sleep Hours                                        -0.023284     1.000000   \n",
       "Sample Question Papers Practiced                    0.013103     0.003990   \n",
       "taget correlation                                   0.024525     0.048106   \n",
       "\n",
       "                                  Sample Question Papers Practiced  \\\n",
       "Hours Studied                                             0.017463   \n",
       "Previous Scores                                           0.007888   \n",
       "Extracurricular Activities                                0.013103   \n",
       "Sleep Hours                                               0.003990   \n",
       "Sample Question Papers Practiced                          1.000000   \n",
       "taget correlation                                         0.043268   \n",
       "\n",
       "                                  taget correlation  \n",
       "Hours Studied                              0.373730  \n",
       "Previous Scores                            0.915189  \n",
       "Extracurricular Activities                 0.024525  \n",
       "Sleep Hours                                0.048106  \n",
       "Sample Question Papers Practiced           0.043268  \n",
       "taget correlation                          1.000000  "
      ]
     },
     "execution_count": 31,
     "metadata": {},
     "output_type": "execute_result"
    }
   ],
   "source": [
    "#Correalation coefficient\n",
    "\n",
    "data_x_df_corr = data_x_df.copy()\n",
    "data_x_df_corr['taget correlation'] = data_t_df.values\n",
    "data_x_df_corr.corr()"
   ]
  },
  {
   "cell_type": "markdown",
   "metadata": {},
   "source": [
    "## 2.2(a)\n"
   ]
  },
  {
   "cell_type": "code",
   "execution_count": 32,
   "metadata": {},
   "outputs": [],
   "source": [
    "def Sigmoid(x, s=1):\n",
    "    return 1 / (1 + np.exp(-(x - x.mean())/ s))"
   ]
  },
  {
   "cell_type": "markdown",
   "metadata": {},
   "source": [
    "## 2.2(b)\n"
   ]
  },
  {
   "cell_type": "code",
   "execution_count": 33,
   "metadata": {},
   "outputs": [],
   "source": [
    "#Generate the Phi matrix for M=1\n",
    "S = 1   #Set standard deviation as hyperparameter\n",
    "Phi_matrix_train_M1_Sigmoid = Sigmoid(np.concatenate([(np.ones([1, len(X_train)]).T), X_train.to_numpy()], axis=1), S)\n",
    "Phi_matrix_val_M1_Sigmoid = Sigmoid(np.concatenate([np.ones([1, len(X_val)]).T, X_val.to_numpy()], axis=1), S)\n"
   ]
  },
  {
   "cell_type": "code",
   "execution_count": 34,
   "metadata": {},
   "outputs": [],
   "source": [
    "M1_Weight_sigmoid = (np.linalg.inv(Phi_matrix_train_M1_Sigmoid.T @ Phi_matrix_train_M1_Sigmoid) @ Phi_matrix_train_M1_Sigmoid.T) @ y_train"
   ]
  },
  {
   "cell_type": "code",
   "execution_count": 35,
   "metadata": {},
   "outputs": [],
   "source": [
    "M1_train_pred_sigmoid = np.dot(M1_Weight_sigmoid.T, Phi_matrix_train_M1_Sigmoid.T)\n",
    "M1_val_pred_sigmoid = np.dot(M1_Weight_sigmoid.T, Phi_matrix_val_M1_Sigmoid.T)\n",
    "M1_RMSE_train_sigmoid = RMSE(M1_train_pred_sigmoid, y_train.to_numpy().T)\n",
    "M1_RMSE_val_sigmoid = RMSE(M1_val_pred_sigmoid, y_val.to_numpy().T)"
   ]
  },
  {
   "cell_type": "code",
   "execution_count": 36,
   "metadata": {},
   "outputs": [
    {
     "name": "stdout",
     "output_type": "stream",
     "text": [
      "M1_RMSE_train_sigmoid:  2.3538439012139\n",
      "M1_RMSE_val_sigmoid:  2.4282943674709756\n"
     ]
    }
   ],
   "source": [
    "print('M1_RMSE_train_sigmoid: ', M1_RMSE_train_sigmoid)\n",
    "print('M1_RMSE_val_sigmoid: ', M1_RMSE_val_sigmoid)"
   ]
  },
  {
   "cell_type": "markdown",
   "metadata": {},
   "source": [
    "## 2.2(c)\n"
   ]
  },
  {
   "cell_type": "markdown",
   "metadata": {},
   "source": [
    "* I select `S` from sigmoid function of standard deviation for hyperparameter"
   ]
  },
  {
   "cell_type": "code",
   "execution_count": 37,
   "metadata": {},
   "outputs": [
    {
     "name": "stdout",
     "output_type": "stream",
     "text": [
      "N = 0\n",
      "M1_RMSE_train_sigmoid:  2.0349794801832575\n",
      "M1_RMSE_val_sigmoid:  2.04916488467163\n",
      "\n",
      "\n",
      "N = 1\n",
      "M1_RMSE_train_sigmoid:  2.037144408410363\n",
      "M1_RMSE_val_sigmoid:  2.0406989694261983\n",
      "\n",
      "\n",
      "N = 2\n",
      "M1_RMSE_train_sigmoid:  2.049886689033899\n",
      "M1_RMSE_val_sigmoid:  1.9882616440762098\n",
      "\n",
      "\n",
      "N = 3\n",
      "M1_RMSE_train_sigmoid:  2.0337322329217544\n",
      "M1_RMSE_val_sigmoid:  2.0545539069885774\n",
      "\n",
      "\n",
      "N = 4\n",
      "M1_RMSE_train_sigmoid:  2.0318727236033354\n",
      "M1_RMSE_val_sigmoid:  2.0640121382333954\n",
      "\n",
      "\n",
      "Average train RMSE:  2.037523106830522\n",
      "Average val RMSE:  2.039338308679202\n"
     ]
    }
   ],
   "source": [
    "N = 5 # fold number\n",
    "S = 10 # hyperparameter\n",
    "\n",
    "def Cross_Validation(data, target, N, S, show_detail:bool):\n",
    "    train_error_history = []\n",
    "    val_error_history = []\n",
    "    for i in range(N):\n",
    "        # Split data to training set and validation set\n",
    "        split_ratio = 1/N\n",
    "        split_len = int(data.shape[0] * split_ratio)\n",
    "        \n",
    "        X_train = np.concatenate((data[:split_len*i,:], data[split_len*(i+1):,:]))\n",
    "        X_val = data[split_len*i:split_len*(i+1),:]\n",
    "        \n",
    "        y_train = np.concatenate((target[:split_len*i,:], target[split_len*(i+1):,:]))\n",
    "        y_val = target[split_len*i:split_len*(i+1),:]\n",
    "            \n",
    "        # Create Phi matrix\n",
    "        Phi_matrix_train_M1_Sigmoid = Sigmoid(np.concatenate([(np.ones([1, len(X_train)]).T), X_train], axis=1), S)\n",
    "        Phi_matrix_val_M1_Sigmoid = Sigmoid(np.concatenate([np.ones([1, len(X_val)]).T, X_val], axis=1), S)\n",
    "        \n",
    "        # Fitting\n",
    "        M1_Weight_sigmoid = (np.linalg.inv(Phi_matrix_train_M1_Sigmoid.T @ Phi_matrix_train_M1_Sigmoid) @ Phi_matrix_train_M1_Sigmoid.T) @ y_train\n",
    "        \n",
    "        # Make prediction\n",
    "        M1_train_pred_sigmoid = np.dot(M1_Weight_sigmoid.T, Phi_matrix_train_M1_Sigmoid.T)\n",
    "        M1_val_pred_sigmoid = np.dot(M1_Weight_sigmoid.T, Phi_matrix_val_M1_Sigmoid.T)\n",
    "        \n",
    "        # Calculate RMSE\n",
    "        M1_RMSE_train_sigmoid = RMSE(M1_train_pred_sigmoid, y_train.T)\n",
    "        M1_RMSE_val_sigmoid = RMSE(M1_val_pred_sigmoid, y_val.T)\n",
    "        \n",
    "        train_error_history.append(M1_RMSE_train_sigmoid)\n",
    "        val_error_history.append(M1_RMSE_val_sigmoid)\n",
    "\n",
    "        # Show result\n",
    "        if show_detail is True:\n",
    "            print('N =', i)\n",
    "            print('M1_RMSE_train_sigmoid: ', M1_RMSE_train_sigmoid)\n",
    "            print('M1_RMSE_val_sigmoid: ', M1_RMSE_val_sigmoid)\n",
    "            print('\\n')\n",
    "\n",
    "    return train_error_history, val_error_history\n",
    "\n",
    "train_error_history, val_error_history = Cross_Validation(data_x_df.to_numpy(), data_t_df.to_numpy(), N, S, True)\n",
    "print('Average train RMSE: ', np.array(train_error_history).mean())\n",
    "print('Average val RMSE: ', np.array(val_error_history).mean())\n"
   ]
  },
  {
   "cell_type": "code",
   "execution_count": 24,
   "metadata": {},
   "outputs": [
    {
     "data": {
      "image/png": "[encoded data removed]",
      "text/plain": [
       "<Figure size 640x480 with 1 Axes>"
      ]
     },
     "metadata": {},
     "output_type": "display_data"
    }
   ],
   "source": [
    "train_RMSE_mean_history = []\n",
    "val_RMSE_mean_history = []\n",
    "for s in range(1, 100):\n",
    "    train_RMSE, val_RMSE = Cross_Validation(data_x_df.to_numpy(), data_t_df.to_numpy(), N, s, False)\n",
    "    train_RMSE_mean_history.append(np.array(train_RMSE).mean())\n",
    "    val_RMSE_mean_history.append(np.array(val_RMSE).mean()) \n",
    "\n",
    "plt.plot(train_RMSE_mean_history, '-',label=\"Train\")\n",
    "plt.plot(val_RMSE_mean_history,'-' ,label=\"Validation\")\n",
    "plt.legend()\n",
    "plt.ylabel('N-fold Mean RMSE')\n",
    "plt.xlabel('Standard deviation')\n",
    "plt.grid(True)\n",
    "plt.show()"
   ]
  },
  {
   "cell_type": "markdown",
   "metadata": {},
   "source": [
    "## 2.3(a)"
   ]
  },
  {
   "cell_type": "markdown",
   "metadata": {},
   "source": [
    "* Maximum likelihood consider the *likelihood probability*, and the goal is to minimize the cross-entropy between data and model\n",
    "$$\\theta_{MLE} = \\argmax_{\\theta}\\ \\sum_i \\ln p(y_i| x_i,m , \\theta)$$\n",
    "* Maximu a posterior consider both *likelihood and posterior probability*, to find the $\\theta$ which can maximize the conditional probability\n",
    "$$\\theta_{MAP} = \\argmax_\\theta \\sum_i \\ln p(y_i | x_i,m,\\theta) + \\textcolor{yellow}{\\ln p(\\theta | m)}$$"
   ]
  },
  {
   "cell_type": "markdown",
   "metadata": {},
   "source": [
    "## 2.3(b)"
   ]
  },
  {
   "cell_type": "markdown",
   "metadata": {},
   "source": [
    "* If we choose Gaussian distribution as a prior, it's equivalent to minimize the error function:\n",
    "$$\\frac{1}{2} \\sum_{n=1}^N(t_n - w^\\top\\phi(x_n))^2 + \\frac{\\lambda}{2}w^\\top w$$\n",
    "* where $$w = (\\lambda I + \\Phi^\\top\\Phi)^{-1}\\Phi^\\top t$$"
   ]
  },
  {
   "cell_type": "code",
   "execution_count": 25,
   "metadata": {},
   "outputs": [],
   "source": [
    "lambda_ = 0.5\n",
    "I = np.identity(12)\n",
    "M1_Weight_sigmoid = (np.linalg.inv( lambda_ *I + (Phi_matrix_train_M1_Sigmoid.T @ Phi_matrix_train_M1_Sigmoid)) @ Phi_matrix_train_M1_Sigmoid.T) @ y_train"
   ]
  },
  {
   "cell_type": "code",
   "execution_count": 26,
   "metadata": {},
   "outputs": [],
   "source": [
    "M1_train_pred_sigmoid = np.dot(M1_Weight_sigmoid.T, Phi_matrix_train_M1_Sigmoid.T)\n",
    "M1_val_pred_sigmoid = np.dot(M1_Weight_sigmoid.T, Phi_matrix_val_M1_Sigmoid.T)\n",
    "M1_RMSE_train_sigmoid = RMSE(M1_train_pred_sigmoid, y_train.to_numpy().T)\n",
    "M1_RMSE_val_sigmoid = RMSE(M1_val_pred_sigmoid, y_val.to_numpy().T)"
   ]
  },
  {
   "cell_type": "code",
   "execution_count": 27,
   "metadata": {},
   "outputs": [
    {
     "name": "stdout",
     "output_type": "stream",
     "text": [
      "M1_RMSE_train_sigmoid:  0.6407313443273223\n",
      "M1_RMSE_val_sigmoid:  0.7137056693025319\n"
     ]
    }
   ],
   "source": [
    "print('M1_RMSE_train_sigmoid: ', M1_RMSE_train_sigmoid)\n",
    "print('M1_RMSE_val_sigmoid: ', M1_RMSE_val_sigmoid)"
   ]
  },
  {
   "cell_type": "code",
   "execution_count": 44,
   "metadata": {},
   "outputs": [
    {
     "data": {
      "image/png": "[encoded data removed]",
      "text/plain": [
       "<Figure size 640x480 with 1 Axes>"
      ]
     },
     "metadata": {},
     "output_type": "display_data"
    }
   ],
   "source": [
    "train_RMSE_mean_history = []\n",
    "val_RMSE_mean_history = []\n",
    "S = 0.5\n",
    "for l in range(0, 50):\n",
    "    Phi_matrix_train_M1_Sigmoid = Sigmoid(np.concatenate([(np.ones([1, len(X_train)]).T), X_train.to_numpy()], axis=1), S)\n",
    "    Phi_matrix_val_M1_Sigmoid = Sigmoid(np.concatenate([np.ones([1, len(X_val)]).T, X_val.to_numpy()], axis=1), S)\n",
    "    M1_Weight_sigmoid = (np.linalg.inv( l *I + (Phi_matrix_train_M1_Sigmoid.T @ Phi_matrix_train_M1_Sigmoid)) @ Phi_matrix_train_M1_Sigmoid.T) @ y_train\n",
    "    M1_train_pred_sigmoid = np.dot(M1_Weight_sigmoid.T, Phi_matrix_train_M1_Sigmoid.T)\n",
    "    M1_val_pred_sigmoid = np.dot(M1_Weight_sigmoid.T, Phi_matrix_val_M1_Sigmoid.T)\n",
    "    M1_RMSE_train_sigmoid = RMSE(M1_train_pred_sigmoid, y_train.to_numpy().T)\n",
    "    M1_RMSE_val_sigmoid = RMSE(M1_val_pred_sigmoid, y_val.to_numpy().T)\n",
    "    train_RMSE_mean_history.append(M1_RMSE_train_sigmoid)\n",
    "    val_RMSE_mean_history.append(M1_RMSE_val_sigmoid) \n",
    "\n",
    "plt.plot(train_RMSE_mean_history,'-', label=\"Train\")\n",
    "plt.plot(val_RMSE_mean_history, '-', label=\"Validation\")\n",
    "plt.legend()\n",
    "plt.ylabel('M1_RMSE')\n",
    "plt.xlabel('lambda')\n",
    "plt.grid(True)\n",
    "plt.show()"
   ]
  },
  {
   "cell_type": "code",
   "execution_count": 33,
   "metadata": {},
   "outputs": [
    {
     "name": "stdout",
     "output_type": "stream",
     "text": [
      "N = 0\n",
      "M1_RMSE_train_sigmoid:  0.6659062802071781\n",
      "M1_RMSE_val_sigmoid:  0.6607078104396609\n",
      "\n",
      "\n",
      "N = 1\n",
      "M1_RMSE_train_sigmoid:  0.6607229214098739\n",
      "M1_RMSE_val_sigmoid:  0.6876645585689466\n",
      "\n",
      "\n",
      "N = 2\n",
      "M1_RMSE_train_sigmoid:  0.6593135400108383\n",
      "M1_RMSE_val_sigmoid:  0.6842882844754303\n",
      "\n",
      "\n",
      "N = 3\n",
      "M1_RMSE_train_sigmoid:  0.6688081154348646\n",
      "M1_RMSE_val_sigmoid:  0.6635397068606578\n",
      "\n",
      "\n",
      "N = 4\n",
      "M1_RMSE_train_sigmoid:  0.658812612897018\n",
      "M1_RMSE_val_sigmoid:  0.6889106142335369\n",
      "\n",
      "\n",
      "Average train RMSE:  0.6627126939919545\n",
      "Average val RMSE:  0.6770221949156465\n"
     ]
    }
   ],
   "source": [
    "N = 5\n",
    "S = 10 # Hyperparameter\n",
    "lambda_ = 0.5\n",
    "def Cross_Validation(data, target, N, S, lambda_, show_detail:bool):\n",
    "    train_error_history = []\n",
    "    val_error_history = []\n",
    "    for i in range(N):\n",
    "        # Split data to training set and validation set\n",
    "        split_ratio = 1/N\n",
    "        split_len = int(data.shape[0] * split_ratio)\n",
    "        \n",
    "        X_train = np.concatenate((data[:split_len*i,:], data[split_len*(i+1):,:]))\n",
    "        X_val = data[split_len*i:split_len*(i+1),:]\n",
    "        \n",
    "        y_train = np.concatenate((target[:split_len*i,:], target[split_len*(i+1):,:]))\n",
    "        y_val = target[split_len*i:split_len*(i+1),:]\n",
    "            \n",
    "        # Create Phi matrix\n",
    "        Phi_matrix_train_M1_Sigmoid = Sigmoid(np.concatenate([(np.ones([1, len(X_train)]).T), X_train], axis=1), S)\n",
    "        Phi_matrix_val_M1_Sigmoid = Sigmoid(np.concatenate([np.ones([1, len(X_val)]).T, X_val], axis=1), S)\n",
    "        \n",
    "        # Fitting\n",
    "        M1_Weight_sigmoid = (np.linalg.inv( lambda_ *I + (Phi_matrix_train_M1_Sigmoid.T @ Phi_matrix_train_M1_Sigmoid)) @ Phi_matrix_train_M1_Sigmoid.T) @ y_train\n",
    "        \n",
    "        # Make prediction\n",
    "        M1_train_pred_sigmoid = np.dot(M1_Weight_sigmoid.T, Phi_matrix_train_M1_Sigmoid.T)\n",
    "        M1_val_pred_sigmoid = np.dot(M1_Weight_sigmoid.T, Phi_matrix_val_M1_Sigmoid.T)\n",
    "        \n",
    "        # Calculate RMSE\n",
    "        M1_RMSE_train_sigmoid = RMSE(M1_train_pred_sigmoid, y_train.T)\n",
    "        M1_RMSE_val_sigmoid = RMSE(M1_val_pred_sigmoid, y_val.T)\n",
    "        \n",
    "        train_error_history.append(M1_RMSE_train_sigmoid)\n",
    "        val_error_history.append(M1_RMSE_val_sigmoid)\n",
    "\n",
    "        # Show result\n",
    "        if show_detail is True:\n",
    "            print('N =', i)\n",
    "            print('M1_RMSE_train_sigmoid: ', M1_RMSE_train_sigmoid)\n",
    "            print('M1_RMSE_val_sigmoid: ', M1_RMSE_val_sigmoid)\n",
    "            print('\\n')\n",
    "\n",
    "    return train_error_history, val_error_history\n",
    "\n",
    "train_error_history, val_error_history = Cross_Validation(data_x_df.to_numpy(), data_t_df.to_numpy(), N, S, lambda_,True)\n",
    "print('Average train RMSE: ', np.array(train_error_history).mean())\n",
    "print('Average val RMSE: ', np.array(val_error_history).mean())"
   ]
  },
  {
   "cell_type": "markdown",
   "metadata": {},
   "source": [
    "## 2.3(c)"
   ]
  },
  {
   "cell_type": "code",
   "execution_count": 49,
   "metadata": {},
   "outputs": [
    {
     "data": {
      "text/plain": [
       "6.7435627644548966"
      ]
     },
     "execution_count": 49,
     "metadata": {},
     "output_type": "execute_result"
    }
   ],
   "source": [
    "# Maximum likelihood\n",
    "M1_Weight_sigmoid = (np.linalg.inv((Phi_matrix_train_M1_Sigmoid.T @ Phi_matrix_train_M1_Sigmoid)) @ Phi_matrix_train_M1_Sigmoid.T) @ y_train\n",
    "np.linalg.norm(M1_Weight_sigmoid)"
   ]
  },
  {
   "cell_type": "code",
   "execution_count": 48,
   "metadata": {},
   "outputs": [
    {
     "data": {
      "text/plain": [
       "3.8870662901165827"
      ]
     },
     "execution_count": 48,
     "metadata": {},
     "output_type": "execute_result"
    }
   ],
   "source": [
    "# Maxumum a posterior\n",
    "M1_Weight_sigmoid = (np.linalg.inv( l *I + (Phi_matrix_train_M1_Sigmoid.T @ Phi_matrix_train_M1_Sigmoid)) @ Phi_matrix_train_M1_Sigmoid.T) @ y_train\n",
    "np.linalg.norm(M1_Weight_sigmoid)"
   ]
  },
  {
   "cell_type": "markdown",
   "metadata": {},
   "source": [
    "From analysis the norm of weight matrix, the MAP's norm is smaller than MLE's, it's means that MAP consider the regularization term in the error function"
   ]
  },
  {
   "cell_type": "markdown",
   "metadata": {},
   "source": []
  }
 ],
 "metadata": {
  "kernelspec": {
   "display_name": "Python 3.10.6 64-bit",
   "language": "python",
   "name": "python3"
  },
  "language_info": {
   "codemirror_mode": {
    "name": "ipython",
    "version": 3
   },
   "file_extension": ".py",
   "mimetype": "text/x-python",
   "name": "python",
   "nbconvert_exporter": "python",
   "pygments_lexer": "ipython3",
   "version": "3.8.16"
  },
  "vscode": {
   "interpreter": {
    "hash": "916dbcbb3f70747c44a77c7bcd40155683ae19c65e1c03b4aa3499c5328201f1"
   }
  }
 },
 "nbformat": 4,
 "nbformat_minor": 4
}
